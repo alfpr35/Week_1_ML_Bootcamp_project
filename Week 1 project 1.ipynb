{
 "cells": [
  {
   "cell_type": "markdown",
   "metadata": {},
   "source": [
    "### Part 1\n",
    "\n",
    "### Practice exercise 1 - Linear dependency\n",
    "\n",
    "Are the following vectors linearly dependent?\n",
    "\n",
    "$\\mathbf{a} = \\begin{bmatrix} 1 \\\\ 1 \\end{bmatrix}$ and $\\mathbf{b} = \\begin{bmatrix} 2 \\\\ 2 \\end{bmatrix}$"
   ]
  },
  {
   "cell_type": "code",
   "execution_count": null,
   "metadata": {},
   "outputs": [],
   "source": [
    "a +  2b = 0\n",
    "a +  2b = 0\n",
    "If we add we get:\n",
    "a + 4b = 0\n",
    "a = -4b\n",
    "\n",
    "we substitute to solve: \n",
    "-4b + 4b =0\n",
    "b = 0\n",
    "\n",
    "We again substitute to solve for a:\n",
    "so:\n",
    "a + 2(0) = 0\n",
    "a = 0\n",
    "\n",
    "We find that these two vectors are linearly independent and not dependent.\n",
    "\n"
   ]
  },
  {
   "cell_type": "markdown",
   "metadata": {},
   "source": [
    "### Practice exercise 2 - Changing basis\n",
    "\n",
    "Given vectors $\\mathbf{v} = \\begin{bmatrix} 5 \\\\ -1 \\end{bmatrix}$, $\\mathbf{b_1} = \\begin{bmatrix} 1 \\\\ 1 \\end{bmatrix}$ and $\\mathbf{b_2} = \\begin{bmatrix} 1 \\\\ -1 \\end{bmatrix}$ all written in the standard basis, what is $\\mathbf{v}$ in the basis defined by $\\mathbf{b_1}$?\n",
    "You are given that $\\mathbf{b_1}$ and $\\mathbf{b_2}$ are orthogonal to each other.  "
   ]
  },
  {
   "cell_type": "code",
   "execution_count": null,
   "metadata": {},
   "outputs": [],
   "source": [
    "v.b1 = 5*1 + -1*1  = 5\n",
    "v.b2 = 5*1 + -1*-1 = 6"
   ]
  },
  {
   "cell_type": "markdown",
   "metadata": {},
   "source": [
    "### Practice exercise 3 - Projection\n",
    "Consider two vectors with three components, $\\mathbf{r} = \\begin{bmatrix} 3 \\\\ -4 \\\\ 0 \\end{bmatrix}$\n",
    " and  $\\mathbf{s} = \\begin{bmatrix} 10 \\\\ 5 \\\\ -6 \\end{bmatrix}$\n",
    "\n",
    "What is the vector projection of $\\mathbf{s}$ onto $\\mathbf{r}$?"
   ]
  },
  {
   "cell_type": "code",
   "execution_count": null,
   "metadata": {},
   "outputs": [],
   "source": [
    "to project s onto r the formula is vs.vr/the magnitude of v (squared)\n",
    "= 3*10 + -4*5 + 0*-6\n",
    "=30-20\n",
    "=10\n",
    "We divide 30 by 3(squared) + (-4 squared) + (0sqaured)\n",
    "=3/9-16\n",
    "=3/-7\n",
    "=then we multiply 3/-7 by vector <3 -4 0> since we are projectig s onto r\n",
    "= 9/-28\n",
    "So this vector <9/-28) is the projectiono of s onto r"
   ]
  },
  {
   "cell_type": "markdown",
   "metadata": {},
   "source": [
    "### Practice exercise 4 - Projection\n",
    "The following diagram shows the projection of $\\mathbf{s}$ onto $\\mathbf{r}$ when the vectors are in two dimensions:\n",
    "\n",
    "\n",
    "Remember that the scalar projection is the size of the green vector. If the angle between $\\mathbf{s}$ and $\\mathbf{r}$ is greater than $\\pi/2$, the projection will also have a minus sign.\n",
    "\n",
    "We can do projection in any number of dimensions. Consider two vectors with three components, $\\mathbf{r} = \\begin{bmatrix} 3 \\\\ -4 \\\\ 0 \\end{bmatrix}$\n",
    " and  $\\mathbf{s} = \\begin{bmatrix} 10 \\\\ 5 \\\\ -6 \\end{bmatrix}$\n",
    "\n",
    "What is the scalar projection of $\\mathbf{s}$ onto $\\mathbf{r}$?"
   ]
  },
  {
   "cell_type": "code",
   "execution_count": null,
   "metadata": {},
   "outputs": [],
   "source": [
    "S.P = r.s ( 3.10, -4.20, 0.-6)*Cos (3.14/2)"
   ]
  },
  {
   "cell_type": "markdown",
   "metadata": {},
   "source": [
    "### Practice exercise 4 - dot products of vectors"
   ]
  },
  {
   "cell_type": "markdown",
   "metadata": {},
   "source": [
    "For two n component vectors, $\\mathbf{a}\\cdot\\mathbf{b} = a_1b_1 + a_2b_2 + \\dots + a_nb_na⋅b$\n",
    "\n",
    "What is the dot product of the vectors $\\mathbf{r} = \\begin{bmatrix} -5 \\\\ 3 \\\\ 2 \\\\ 8 \\end{bmatrix}$\n",
    "and $\\mathbf{s} = \\begin{bmatrix} 1 \\\\ 2 \\\\ -1 \\\\ 0 \\end{bmatrix}$\n",
    " ?"
   ]
  },
  {
   "cell_type": "code",
   "execution_count": null,
   "metadata": {},
   "outputs": [],
   "source": [
    "rs = -5.1, 3.2, 2.-1, 8.0 = vector <5,6, -2, 0>"
   ]
  },
  {
   "cell_type": "markdown",
   "metadata": {},
   "source": [
    "### Part 2 \n",
    "#### ML and Banking"
   ]
  },
  {
   "cell_type": "markdown",
   "metadata": {},
   "source": [
    "#### Introduction \n",
    "\n",
    "Artificial Intelligence (AI), neural networks, and deep learning are frequently misleading terms that are utilized conversely in media, causing uncertainty about them. All things considered, deep learning is a subset of Machine Learning (ML), and both are subfields of AI. AI allows machines to replicate human intelligence to accomplish complex tasks. Through ML, computers learn from data to make inferences without being unequivocally programmed. The advent of the fourth industrial revolution (4IR) has led to the emergence of several technologies such as IoT, Cloud Computing, Blockchain, Big Data amongst a host of others. This has been spurred by the availability of higher computational powers and the incessant use of the ubiquitous internet. As a result, this has enhanced the efficacy of ML algorithms. The banking industry is one of those sectors that have benefited immensely from ML. Through ML, customers churn rate can be established, in turn helping the management to make strategic decisions. Furthermore, ML can be applied to forecast loan defaulters and to detect fraud.\n",
    "\n",
    "#### Why traditional methods are not feasible to handle these problems\n",
    "\n",
    "Traditional methods are deficient in dealing with large amounts of data. Also, this might require millions of lines of code for a task to be accomplished. On the other, hand, studies have proved that ML can solve some of the pressing banking challenges with near-pinpoint accuracy. The ability of ML algorithms to learn from historical data has been instrumental in offering solutions to challenges such as credit card fraud and also in segmenting different markets according to their demographics and customers personas. Traditionally, it would take a long to achieve this. However, with increased computational power lately, the success rate with such challenges has continued to improve.\n",
    "\n",
    "#### What changes in the AI landscape have enabled these applications?\n",
    "\n",
    "One of the biggest developments in the recent past is the availability of higher computational power. Expanded assembling of data requires an expanding capacity to perform calculations. Without a comparing expansion in the accessibility of computing power, AI would not have the option to exploit these. Additionally, the increased use of the internet through social media and IoT devices have contributed to the large amount of data that is being generated as a consequence, fueling ML algorithms and improving their efficiency.\n",
    "\n",
    "#### Which algorithms are employed for (the problems in the chosen industry - use one example eg in the banking sector,\n",
    "\n",
    "Logistic Regression is commonly used in fraud detection as a supervised learning method. It is utilized when the decision is categorical. It implies that the outcome will be either 'fraud ' or “non-fraudulent” activity assuming a transaction has happened.\n",
    "\n",
    "#### Examples of these applications in our Kenyan context\n",
    "\n",
    "ML applications can be used as aforementioned in segmenting the market. For example, a company like Airtel or Safaricom can segment the market based on consumers spending patterns. This allows them to market the correct products to the right audience. Also, Safaricom can flag Mshuari loan defaulters based on their payment history.\n",
    "\n",
    "#### The challenges faced in general faced in using these models\n",
    "\n",
    "Even though these models have gained prominence lately, one major challenge is the aversion that some companies have to emerge technologies. There is a huge deficit in a specialist who can perform these tasks since data collection and preparation is one of the cardinal roles of a data analyst. Often, cases have risen on the authenticity of the data. This has the potential of giving biased outcomes hence leading to wrong predictions.\n"
   ]
  },
  {
   "cell_type": "code",
   "execution_count": null,
   "metadata": {},
   "outputs": [],
   "source": []
  }
 ],
 "metadata": {
  "kernelspec": {
   "display_name": "Python 3",
   "language": "python",
   "name": "python3"
  },
  "language_info": {
   "codemirror_mode": {
    "name": "ipython",
    "version": 3
   },
   "file_extension": ".py",
   "mimetype": "text/x-python",
   "name": "python",
   "nbconvert_exporter": "python",
   "pygments_lexer": "ipython3",
   "version": "3.7.1"
  }
 },
 "nbformat": 4,
 "nbformat_minor": 4
}
